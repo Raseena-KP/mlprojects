{
 "cells": [
  {
   "cell_type": "code",
   "execution_count": 26,
   "id": "b1347dc9",
   "metadata": {},
   "outputs": [],
   "source": [
    "#import library\n",
    "import pandas as pd\n",
    "import numpy as np\n",
    "import matplotlib.pyplot as plt\n",
    "import seaborn as sns\n",
    "import warnings\n",
    "warnings.filterwarnings('ignore')\n",
    "from sklearn.preprocessing import StandardScaler\n",
    "from sklearn.preprocessing import OneHotEncoder\n",
    "from sklearn.compose import ColumnTransformer\n",
    "from sklearn.model_selection import train_test_split\n",
    "from sklearn.metrics import r2_score,mean_absolute_error,mean_squared_error\n",
    "from sklearn.ensemble import RandomForestRegressor,AdaBoostRegressor\n",
    "from sklearn.tree import DecisionTreeRegressor\n",
    "from sklearn.svm import SVR\n",
    "from sklearn.linear_model import LinearRegression, Ridge,Lasso\n",
    "from sklearn.neighbors import KNeighborsRegressor\n",
    "from xgboost import XGBRegressor"
   ]
  },
  {
   "cell_type": "code",
   "execution_count": 2,
   "id": "66857068",
   "metadata": {},
   "outputs": [],
   "source": [
    "#pip install catboost"
   ]
  },
  {
   "cell_type": "markdown",
   "id": "00cfa0ed",
   "metadata": {},
   "source": [
    "Problem Statement: create ML model to predict the Math score"
   ]
  },
  {
   "cell_type": "code",
   "execution_count": 3,
   "id": "3c8fa897",
   "metadata": {},
   "outputs": [],
   "source": [
    "# read data\n",
    "data=pd.read_csv('StudentsPerformance.csv')"
   ]
  },
  {
   "cell_type": "code",
   "execution_count": 4,
   "id": "7bdcb706",
   "metadata": {},
   "outputs": [
    {
     "data": {
      "text/html": [
       "<div>\n",
       "<style scoped>\n",
       "    .dataframe tbody tr th:only-of-type {\n",
       "        vertical-align: middle;\n",
       "    }\n",
       "\n",
       "    .dataframe tbody tr th {\n",
       "        vertical-align: top;\n",
       "    }\n",
       "\n",
       "    .dataframe thead th {\n",
       "        text-align: right;\n",
       "    }\n",
       "</style>\n",
       "<table border=\"1\" class=\"dataframe\">\n",
       "  <thead>\n",
       "    <tr style=\"text-align: right;\">\n",
       "      <th></th>\n",
       "      <th>gender</th>\n",
       "      <th>race/ethnicity</th>\n",
       "      <th>parental level of education</th>\n",
       "      <th>lunch</th>\n",
       "      <th>test preparation course</th>\n",
       "      <th>math score</th>\n",
       "      <th>reading score</th>\n",
       "      <th>writing score</th>\n",
       "    </tr>\n",
       "  </thead>\n",
       "  <tbody>\n",
       "    <tr>\n",
       "      <th>0</th>\n",
       "      <td>female</td>\n",
       "      <td>group B</td>\n",
       "      <td>bachelor's degree</td>\n",
       "      <td>standard</td>\n",
       "      <td>none</td>\n",
       "      <td>72</td>\n",
       "      <td>72</td>\n",
       "      <td>74</td>\n",
       "    </tr>\n",
       "    <tr>\n",
       "      <th>1</th>\n",
       "      <td>female</td>\n",
       "      <td>group C</td>\n",
       "      <td>some college</td>\n",
       "      <td>standard</td>\n",
       "      <td>completed</td>\n",
       "      <td>69</td>\n",
       "      <td>90</td>\n",
       "      <td>88</td>\n",
       "    </tr>\n",
       "    <tr>\n",
       "      <th>2</th>\n",
       "      <td>female</td>\n",
       "      <td>group B</td>\n",
       "      <td>master's degree</td>\n",
       "      <td>standard</td>\n",
       "      <td>none</td>\n",
       "      <td>90</td>\n",
       "      <td>95</td>\n",
       "      <td>93</td>\n",
       "    </tr>\n",
       "  </tbody>\n",
       "</table>\n",
       "</div>"
      ],
      "text/plain": [
       "   gender race/ethnicity parental level of education     lunch  \\\n",
       "0  female        group B           bachelor's degree  standard   \n",
       "1  female        group C                some college  standard   \n",
       "2  female        group B             master's degree  standard   \n",
       "\n",
       "  test preparation course  math score  reading score  writing score  \n",
       "0                    none          72             72             74  \n",
       "1               completed          69             90             88  \n",
       "2                    none          90             95             93  "
      ]
     },
     "execution_count": 4,
     "metadata": {},
     "output_type": "execute_result"
    }
   ],
   "source": [
    "# display the first 3 rows of the data\n",
    "data.head(3)"
   ]
  },
  {
   "cell_type": "code",
   "execution_count": 5,
   "id": "9c2169b4",
   "metadata": {},
   "outputs": [],
   "source": [
    "# remove the spaces in the column names\n",
    "\n",
    "data.columns=data.columns.str.replace(\" \",\"_\").str.replace(\"/\",\"_\")"
   ]
  },
  {
   "cell_type": "code",
   "execution_count": 6,
   "id": "1329884c",
   "metadata": {},
   "outputs": [],
   "source": [
    "#prepare X & Y\n",
    "\n",
    "X=data.drop('math_score',axis=1)\n",
    "y=data['math_score']"
   ]
  },
  {
   "cell_type": "code",
   "execution_count": 7,
   "id": "2c21ded6",
   "metadata": {},
   "outputs": [],
   "source": [
    "# create a column transformer to trasform columns\n",
    "\n",
    "# Categorical column need to be converted numerical-using One hot Encoder\n",
    "# then need to standadise all the numerical columns \n",
    "\n",
    "# first seperate the numerical and categorical features\n",
    "\n",
    "num_features=X.select_dtypes(exclude='object').columns\n",
    "cat_features=X.select_dtypes(include='object').columns\n",
    "\n",
    "# create object for OneHotEncoder & StandardScalar\n",
    "num_transformer=StandardScaler()\n",
    "cat_transformer=OneHotEncoder()\n",
    "\n",
    "# create a pipeline using Column transformer- order: first convert categorical features to numeric then apply standard scaling\n",
    "\n",
    "preprocessing=ColumnTransformer(\n",
    "    [\n",
    "        (\"OneHotEncoder\",cat_transformer,cat_features), \n",
    "        (\"StandardScaler\",num_transformer,num_features),\n",
    "    ]\n",
    ")"
   ]
  },
  {
   "cell_type": "code",
   "execution_count": 8,
   "id": "c90a2396",
   "metadata": {},
   "outputs": [],
   "source": [
    "# transform the features of X\n",
    "X=preprocessing.fit_transform(X)"
   ]
  },
  {
   "cell_type": "code",
   "execution_count": 9,
   "id": "9a1d8cbd",
   "metadata": {},
   "outputs": [],
   "source": [
    "# split the data into train & test set\n",
    "x_train,x_test,y_train,y_test=train_test_split(X,y,test_size=0.2,random_state=42)"
   ]
  },
  {
   "cell_type": "code",
   "execution_count": 10,
   "id": "59f5546b",
   "metadata": {},
   "outputs": [
    {
     "data": {
      "text/plain": [
       "((800, 19), (200, 19), (800,), (200,))"
      ]
     },
     "execution_count": 10,
     "metadata": {},
     "output_type": "execute_result"
    }
   ],
   "source": [
    "x_train.shape,x_test.shape,y_train.shape,y_test.shape"
   ]
  },
  {
   "cell_type": "markdown",
   "id": "62fabf1c",
   "metadata": {},
   "source": [
    "### create a evaluate function to return all metrics after model training"
   ]
  },
  {
   "cell_type": "code",
   "execution_count": 11,
   "id": "307a5eda",
   "metadata": {},
   "outputs": [],
   "source": [
    "# create a Evaluate function \n",
    "\n",
    "def evaluate_model(true,predicted):\n",
    "    r2_score_val=r2_score(true,predicted)\n",
    "    mse_score=mean_squared_error(true,predicted)\n",
    "    rmse_score=np.sqrt(mse_score)\n",
    "    mae_score=mean_absolute_error(true,predicted)\n",
    "    \n",
    "    return r2_score_val,rmse_score,mae_score   "
   ]
  },
  {
   "cell_type": "code",
   "execution_count": 12,
   "id": "a364c3cc",
   "metadata": {},
   "outputs": [],
   "source": [
    "# cretae a dtaframe to store model performance score\n",
    "model_perform=pd.DataFrame(columns={\"Model\",\"train_test\",\"r2_score_val\",\"rmse_score\",\"mae_score\"})   "
   ]
  },
  {
   "cell_type": "code",
   "execution_count": 13,
   "id": "346ad779",
   "metadata": {},
   "outputs": [],
   "source": [
    "# create model list in a dcictionary format \n",
    "\n",
    "models={\n",
    "    \"RandomForestRegressor\":RandomForestRegressor(),\n",
    "    \"AdaBoostRegressor\":AdaBoostRegressor(),\n",
    "    \"DecisionTreeRegressor\":DecisionTreeRegressor(),\n",
    "    \"LinearRegression\":LinearRegression(),\n",
    "    \"Ridge\":Ridge(),\n",
    "    \"Lasso\":Lasso(),\n",
    "    \"KNeighborsRegressor\":KNeighborsRegressor()\n",
    "}\n",
    "\n",
    "for model_name, model in models.items():\n",
    "    #train the model\n",
    "    model.fit(x_train,y_train)\n",
    "    \n",
    "    #make prediction\n",
    "    y_train_pred=model.predict(x_train)\n",
    "    y_test_pred=model.predict(x_test)\n",
    "    \n",
    "    #evaluate train set prediction\n",
    "    r2_score_train,rmse_score,mae_score=evaluate_model(y_train,y_train_pred)\n",
    "    model_perform = model_perform.append(\n",
    "        {\"Model\": model_name, \"train_test\": \"train\", \"r2_score_val\": r2_score_train, \"rmse_score\": rmse_score, \"mae_score\": mae_score},\n",
    "        ignore_index=True\n",
    "    )\n",
    "    \n",
    "    #evaluate test set prediction\n",
    "    r2_score_test, rmse_score, mae_score=evaluate_model(y_test,y_test_pred)\n",
    "    model_perform = model_perform.append(\n",
    "        {\"Model\": model_name, \"train_test\": \"test\", \"r2_score_val\": r2_score_test, \"rmse_score\": rmse_score, \"mae_score\": mae_score},\n",
    "        ignore_index=True\n",
    "    )"
   ]
  },
  {
   "cell_type": "code",
   "execution_count": 17,
   "id": "ff39365c",
   "metadata": {},
   "outputs": [
    {
     "data": {
      "text/html": [
       "<div>\n",
       "<style scoped>\n",
       "    .dataframe tbody tr th:only-of-type {\n",
       "        vertical-align: middle;\n",
       "    }\n",
       "\n",
       "    .dataframe tbody tr th {\n",
       "        vertical-align: top;\n",
       "    }\n",
       "\n",
       "    .dataframe thead th {\n",
       "        text-align: right;\n",
       "    }\n",
       "</style>\n",
       "<table border=\"1\" class=\"dataframe\">\n",
       "  <thead>\n",
       "    <tr style=\"text-align: right;\">\n",
       "      <th></th>\n",
       "      <th>Model</th>\n",
       "      <th>train_test</th>\n",
       "      <th>rmse_score</th>\n",
       "      <th>r2_score_val</th>\n",
       "      <th>mae_score</th>\n",
       "    </tr>\n",
       "  </thead>\n",
       "  <tbody>\n",
       "    <tr>\n",
       "      <th>9</th>\n",
       "      <td>Ridge</td>\n",
       "      <td>test</td>\n",
       "      <td>5.390387</td>\n",
       "      <td>0.880593</td>\n",
       "      <td>4.211101</td>\n",
       "    </tr>\n",
       "    <tr>\n",
       "      <th>7</th>\n",
       "      <td>LinearRegression</td>\n",
       "      <td>test</td>\n",
       "      <td>5.390722</td>\n",
       "      <td>0.880578</td>\n",
       "      <td>4.207813</td>\n",
       "    </tr>\n",
       "    <tr>\n",
       "      <th>1</th>\n",
       "      <td>RandomForestRegressor</td>\n",
       "      <td>test</td>\n",
       "      <td>5.861738</td>\n",
       "      <td>0.858798</td>\n",
       "      <td>4.554091</td>\n",
       "    </tr>\n",
       "    <tr>\n",
       "      <th>3</th>\n",
       "      <td>AdaBoostRegressor</td>\n",
       "      <td>test</td>\n",
       "      <td>6.173501</td>\n",
       "      <td>0.843378</td>\n",
       "      <td>4.807670</td>\n",
       "    </tr>\n",
       "    <tr>\n",
       "      <th>11</th>\n",
       "      <td>Lasso</td>\n",
       "      <td>test</td>\n",
       "      <td>6.519695</td>\n",
       "      <td>0.825320</td>\n",
       "      <td>5.157882</td>\n",
       "    </tr>\n",
       "    <tr>\n",
       "      <th>13</th>\n",
       "      <td>KNeighborsRegressor</td>\n",
       "      <td>test</td>\n",
       "      <td>7.263429</td>\n",
       "      <td>0.783193</td>\n",
       "      <td>5.659000</td>\n",
       "    </tr>\n",
       "    <tr>\n",
       "      <th>5</th>\n",
       "      <td>DecisionTreeRegressor</td>\n",
       "      <td>test</td>\n",
       "      <td>7.892085</td>\n",
       "      <td>0.744040</td>\n",
       "      <td>6.195000</td>\n",
       "    </tr>\n",
       "  </tbody>\n",
       "</table>\n",
       "</div>"
      ],
      "text/plain": [
       "                    Model train_test  rmse_score  r2_score_val  mae_score\n",
       "9                   Ridge       test    5.390387      0.880593   4.211101\n",
       "7        LinearRegression       test    5.390722      0.880578   4.207813\n",
       "1   RandomForestRegressor       test    5.861738      0.858798   4.554091\n",
       "3       AdaBoostRegressor       test    6.173501      0.843378   4.807670\n",
       "11                  Lasso       test    6.519695      0.825320   5.157882\n",
       "13    KNeighborsRegressor       test    7.263429      0.783193   5.659000\n",
       "5   DecisionTreeRegressor       test    7.892085      0.744040   6.195000"
      ]
     },
     "execution_count": 17,
     "metadata": {},
     "output_type": "execute_result"
    }
   ],
   "source": [
    "# now we will see which model has best r2 score(test set)\n",
    "model_perform[model_perform['train_test']=='test'].sort_values(by='r2_score_val',ascending=False)"
   ]
  },
  {
   "cell_type": "markdown",
   "id": "8712f393",
   "metadata": {},
   "source": [
    "Note:\n",
    "    \n",
    "    1. Ridge Regressor has got high r2_score value\n",
    "\n",
    "    2. Linear Regressor also have almost similiar r2_score, so we will go for Linear Regressor"
   ]
  },
  {
   "cell_type": "markdown",
   "id": "596296bc",
   "metadata": {},
   "source": [
    "## Linear Regression"
   ]
  },
  {
   "cell_type": "markdown",
   "id": "e9fc4069",
   "metadata": {},
   "source": [
    "When we add parameter fit_intercept=True, the linear regression model will include an intercept term, also known as the y-intercept or bias term. This intercept term allows the linear regression line to have a non-zero value even when all the input features are zero. It represents the expected value of the target variable when all the input features are zero. so the regression line will not pass through (0,0)."
   ]
  },
  {
   "cell_type": "code",
   "execution_count": 20,
   "id": "edce2987",
   "metadata": {},
   "outputs": [
    {
     "name": "stdout",
     "output_type": "stream",
     "text": [
      "Accuracy score of Linear Regressor model is  88.0578320679787\n"
     ]
    }
   ],
   "source": [
    "lin_mod=LinearRegression(fit_intercept=True)\n",
    "lin_mod.fit(x_train,y_train)\n",
    "y_pred=lin_mod.predict(x_test)\n",
    "accuracy=r2_score(y_test,y_pred)\n",
    "\n",
    "print(\"Accuracy score of Linear Regressor model is \",accuracy*100)"
   ]
  },
  {
   "cell_type": "code",
   "execution_count": 25,
   "id": "562f2fd1",
   "metadata": {},
   "outputs": [
    {
     "data": {
      "image/png": "[encoded data removed]",
      "text/plain": [
       "<Figure size 640x480 with 1 Axes>"
      ]
     },
     "metadata": {},
     "output_type": "display_data"
    }
   ],
   "source": [
    "# plot the y_test value nad y_pred value-using matplotlib\n",
    "\n",
    "plt.scatter(y_test,y_pred)\n",
    "plt.title(\"True value & Predictde value\")\n",
    "plt.xlabel(\"Actual\")\n",
    "plt.ylabel(\"Predicted\")\n",
    "plt.show()"
   ]
  },
  {
   "cell_type": "code",
   "execution_count": 29,
   "id": "a7aa63ad",
   "metadata": {},
   "outputs": [
    {
     "data": {
      "text/plain": [
       "<AxesSubplot:xlabel='math_score'>"
      ]
     },
     "execution_count": 29,
     "metadata": {},
     "output_type": "execute_result"
    },
    {
     "data": {
      "image/png": "[encoded data removed]",
      "text/plain": [
       "<Figure size 640x480 with 1 Axes>"
      ]
     },
     "metadata": {},
     "output_type": "display_data"
    }
   ],
   "source": [
    "# using seaborn regplot\n",
    "sns.regplot(x=y_test,y=y_pred,ci=None,color='r')"
   ]
  },
  {
   "cell_type": "markdown",
   "id": "ea36eb99",
   "metadata": {},
   "source": [
    "### Difference between Actual & predicted value"
   ]
  },
  {
   "cell_type": "code",
   "execution_count": 30,
   "id": "531312d7",
   "metadata": {},
   "outputs": [
    {
     "data": {
      "text/html": [
       "<div>\n",
       "<style scoped>\n",
       "    .dataframe tbody tr th:only-of-type {\n",
       "        vertical-align: middle;\n",
       "    }\n",
       "\n",
       "    .dataframe tbody tr th {\n",
       "        vertical-align: top;\n",
       "    }\n",
       "\n",
       "    .dataframe thead th {\n",
       "        text-align: right;\n",
       "    }\n",
       "</style>\n",
       "<table border=\"1\" class=\"dataframe\">\n",
       "  <thead>\n",
       "    <tr style=\"text-align: right;\">\n",
       "      <th></th>\n",
       "      <th>Actual_Value</th>\n",
       "      <th>Predicted_value</th>\n",
       "      <th>difference</th>\n",
       "    </tr>\n",
       "  </thead>\n",
       "  <tbody>\n",
       "    <tr>\n",
       "      <th>521</th>\n",
       "      <td>91</td>\n",
       "      <td>76.468750</td>\n",
       "      <td>14.531250</td>\n",
       "    </tr>\n",
       "    <tr>\n",
       "      <th>737</th>\n",
       "      <td>53</td>\n",
       "      <td>59.046875</td>\n",
       "      <td>-6.046875</td>\n",
       "    </tr>\n",
       "    <tr>\n",
       "      <th>740</th>\n",
       "      <td>80</td>\n",
       "      <td>77.046875</td>\n",
       "      <td>2.953125</td>\n",
       "    </tr>\n",
       "    <tr>\n",
       "      <th>660</th>\n",
       "      <td>74</td>\n",
       "      <td>76.703125</td>\n",
       "      <td>-2.703125</td>\n",
       "    </tr>\n",
       "    <tr>\n",
       "      <th>411</th>\n",
       "      <td>84</td>\n",
       "      <td>87.359375</td>\n",
       "      <td>-3.359375</td>\n",
       "    </tr>\n",
       "    <tr>\n",
       "      <th>...</th>\n",
       "      <td>...</td>\n",
       "      <td>...</td>\n",
       "      <td>...</td>\n",
       "    </tr>\n",
       "    <tr>\n",
       "      <th>408</th>\n",
       "      <td>52</td>\n",
       "      <td>43.640625</td>\n",
       "      <td>8.359375</td>\n",
       "    </tr>\n",
       "    <tr>\n",
       "      <th>332</th>\n",
       "      <td>62</td>\n",
       "      <td>61.859375</td>\n",
       "      <td>0.140625</td>\n",
       "    </tr>\n",
       "    <tr>\n",
       "      <th>208</th>\n",
       "      <td>74</td>\n",
       "      <td>68.046875</td>\n",
       "      <td>5.953125</td>\n",
       "    </tr>\n",
       "    <tr>\n",
       "      <th>613</th>\n",
       "      <td>65</td>\n",
       "      <td>67.078125</td>\n",
       "      <td>-2.078125</td>\n",
       "    </tr>\n",
       "    <tr>\n",
       "      <th>78</th>\n",
       "      <td>61</td>\n",
       "      <td>62.593750</td>\n",
       "      <td>-1.593750</td>\n",
       "    </tr>\n",
       "  </tbody>\n",
       "</table>\n",
       "<p>200 rows × 3 columns</p>\n",
       "</div>"
      ],
      "text/plain": [
       "     Actual_Value  Predicted_value  difference\n",
       "521            91        76.468750   14.531250\n",
       "737            53        59.046875   -6.046875\n",
       "740            80        77.046875    2.953125\n",
       "660            74        76.703125   -2.703125\n",
       "411            84        87.359375   -3.359375\n",
       "..            ...              ...         ...\n",
       "408            52        43.640625    8.359375\n",
       "332            62        61.859375    0.140625\n",
       "208            74        68.046875    5.953125\n",
       "613            65        67.078125   -2.078125\n",
       "78             61        62.593750   -1.593750\n",
       "\n",
       "[200 rows x 3 columns]"
      ]
     },
     "execution_count": 30,
     "metadata": {},
     "output_type": "execute_result"
    }
   ],
   "source": [
    "diff_df=pd.DataFrame({\"Actual_Value\":y_test,\"Predicted_value\":y_pred,'difference':y_test-y_pred})\n",
    "\n",
    "diff_df"
   ]
  }
 ],
 "metadata": {
  "kernelspec": {
   "display_name": "Python 3 (ipykernel)",
   "language": "python",
   "name": "python3"
  },
  "language_info": {
   "codemirror_mode": {
    "name": "ipython",
    "version": 3
   },
   "file_extension": ".py",
   "mimetype": "text/x-python",
   "name": "python",
   "nbconvert_exporter": "python",
   "pygments_lexer": "ipython3",
   "version": "3.9.13"
  }
 },
 "nbformat": 4,
 "nbformat_minor": 5
}
